{
 "cells": [
  {
   "cell_type": "markdown",
   "id": "c5c15be8",
   "metadata": {},
   "source": [
    "# AVL - Trees\n",
    "\n",
    "- AVL-Trees are balanced **data structure** invented back in 1962 by Adelson-Velsky and Landis (AVL)\n",
    "- This data structure has guaranteed **O(logN)** running time. \n",
    "- The running time of binary search trees depend on the ***h*** height of the binary search tree.\n",
    "- In AVL tree the heights of the two child subtrees of any node differ by at most one.\n",
    "- **AVL Trees are faster** than *red-black trees* because they are more rigidly balanced but needs more work.\n",
    "- **Operating systems** relies heavily on these data structures.\n",
    "\n",
    "> AVL trees are rigidly balanced so **O(logN)** running time is guaranteed.<br>\n",
    "> Red-black trees are faster to construct because they are not as balanced as AVL trees."
   ]
  },
  {
   "cell_type": "markdown",
   "id": "0f96a969",
   "metadata": {},
   "source": [
    "- Al lthe operations are the same as we have seen with **binary search trees** (insertion and removal)\n",
    "- After every insertion and removal operations we have to check whether the tree has become **imbalanced** or not.\n",
    "- If the tree is imbalanced, then we have to make **rotations**."
   ]
  },
  {
   "cell_type": "markdown",
   "id": "dc435406",
   "metadata": {},
   "source": [
    "> **HEIGHT** = `max(left child's height, right child's height) + 1` "
   ]
  },
  {
   "cell_type": "markdown",
   "id": "d9d81843",
   "metadata": {},
   "source": [
    "- The height of a node is the longest path from the actual node to a leaf node.\n",
    "- The height of a NULL node is -1 to be consistent (this is why leaf nodes have height 0)"
   ]
  },
  {
   "cell_type": "markdown",
   "id": "a95497ea",
   "metadata": {},
   "source": [
    "- **AVL Trees** are exactly same as binary search trees.\n",
    "- The on;y difference is that we track the height **h** parameters of the nodes in the tree.\n",
    "> `abs(hleft - hright) > 1`\n",
    "\n",
    "- All subtrees height parameter can not differ more than 1 (otherwise the tree is **imbalanced**).\n",
    "- We have to update the binary search tree and **make rotations** if it gets imbalanced.\n",
    "- This is why we have the height **h** parameters — we just have to check the differences in height parameters after every operation."
   ]
  },
  {
   "cell_type": "markdown",
   "id": "9b7b872b",
   "metadata": {},
   "source": [
    "## Rotations\n",
    "\n",
    "- We have to track the height **h** parameters for all the nodes in the binary search tree.\n",
    "- We can calculate the **balance factors** for the nodes. \n",
    "- We should make **rotations** if necessary to rebalance search trees.\n",
    "\n",
    "##### Left Rotations\n",
    "> Negative balance factors mean **right heavy situation** so we have to make a left rotation to rebalance the tree.\n",
    "\n",
    "##### Right Rotations \n",
    "> Positive balance factors mean **left heavy situation** so we have to make a right rotation to rebalance the tree."
   ]
  },
  {
   "cell_type": "markdown",
   "id": "037c1148",
   "metadata": {},
   "source": [
    "- Rotations are extremely fast — we just have to update the references, **O(1)**\n",
    "- This operation **does not change the properties** of the tree.\n",
    "- The in-order traversal remains the same as well as the parent-child relationships in the tree.\n",
    "- **THERE MAY BE OTHER ISSUES BECAUSE OF ROTATIONS**\n",
    "- We have to check up to the root node wether to make further rotations or not — it takes **O(logN)** running time."
   ]
  }
 ],
 "metadata": {
  "kernelspec": {
   "display_name": "Python 3 (ipykernel)",
   "language": "python",
   "name": "python3"
  },
  "language_info": {
   "codemirror_mode": {
    "name": "ipython",
    "version": 3
   },
   "file_extension": ".py",
   "mimetype": "text/x-python",
   "name": "python",
   "nbconvert_exporter": "python",
   "pygments_lexer": "ipython3",
   "version": "3.9.13"
  }
 },
 "nbformat": 4,
 "nbformat_minor": 5
}
