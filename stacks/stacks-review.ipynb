{
 "cells": [
  {
   "cell_type": "markdown",
   "id": "51be3381",
   "metadata": {},
   "source": [
    "# Stacks\n",
    "\n",
    "- Stack is an **abstract data type** (which means that stack is going to define the behavior but it has nothing to do with the underlying implementation.) — and it can be implemented either with **arrays** or **linked lists.**\n",
    "- It has a structure called **LIFO** (**F**irst **In** **L**ast **O**ut) — the last item inserted is the first one to be taken out.\n",
    "- There are three basic operations:<br>\n",
    "> `pop()` — Remove and show the last element inserted. <br>\n",
    "> `push()` — Insert an element into the stack. <br>\n",
    "> `peek()` — Show the last element without removing it.<br>\n",
    "\n",
    "- Most of the programming languages are **stack-oriented**.\n",
    "- They define the most basic operations (e.g. adding two numbers) as taking their **arguments from the stack** and placing any return values back on the stack."
   ]
  },
  {
   "cell_type": "markdown",
   "id": "7db2a413",
   "metadata": {},
   "source": [
    "### Stacks Application\n",
    "\n",
    "1. In stack oriented programming languages.\n",
    "2. Graph algorithms heavily rely on on stacks such as depth-first search can be implemented with stacks.\n",
    "3. Finding Eulerian cycles in a **`G(V, E)`** graph.\n",
    "4. Finding **strongly connected components** in a given **`G(V, E)`** graph."
   ]
  },
  {
   "cell_type": "markdown",
   "id": "70ab795a",
   "metadata": {},
   "source": [
    "### Memory Management\n",
    "- There are **2** main types of memory: **stack memory** and **heap memory**.\n",
    "- The **stack memory** is a special region in the **RAM** (Random Access Memory).\n",
    "- This is a special data type (stack) that store the active functions and local variables as well.\n",
    "- This is how Python knows where to return after finish execution of a given function.\n",
    "- The **heap memory** is a special region in the **RAM** as well.\n",
    "- The size of the **heap memory** is way larger than that of the **stack memory** (we can store more items.).\n",
    "- **Objects** are used in the **heap memory.**"
   ]
  },
  {
   "cell_type": "code",
   "execution_count": 2,
   "id": "9efdab11",
   "metadata": {},
   "outputs": [
    {
     "data": {
      "text/html": [
       "<div>\n",
       "<style scoped>\n",
       "    .dataframe tbody tr th:only-of-type {\n",
       "        vertical-align: middle;\n",
       "    }\n",
       "\n",
       "    .dataframe tbody tr th {\n",
       "        vertical-align: top;\n",
       "    }\n",
       "\n",
       "    .dataframe thead th {\n",
       "        text-align: right;\n",
       "    }\n",
       "</style>\n",
       "<table border=\"1\" class=\"dataframe\">\n",
       "  <thead>\n",
       "    <tr style=\"text-align: right;\">\n",
       "      <th></th>\n",
       "      <th>Stack Memory</th>\n",
       "      <th>Heap Memory</th>\n",
       "    </tr>\n",
       "  </thead>\n",
       "  <tbody>\n",
       "    <tr>\n",
       "      <th>1</th>\n",
       "      <td>small size</td>\n",
       "      <td>large size</td>\n",
       "    </tr>\n",
       "    <tr>\n",
       "      <th>2</th>\n",
       "      <td>fast access</td>\n",
       "      <td>slow access</td>\n",
       "    </tr>\n",
       "    <tr>\n",
       "      <th>3</th>\n",
       "      <td>stores function calls and local variables</td>\n",
       "      <td>stores objects</td>\n",
       "    </tr>\n",
       "    <tr>\n",
       "      <th>4</th>\n",
       "      <td>no fragmentation</td>\n",
       "      <td>may become fragmented</td>\n",
       "    </tr>\n",
       "  </tbody>\n",
       "</table>\n",
       "</div>"
      ],
      "text/plain": [
       "                                Stack Memory            Heap Memory\n",
       "1                                 small size             large size\n",
       "2                                fast access            slow access\n",
       "3  stores function calls and local variables         stores objects\n",
       "4                           no fragmentation  may become fragmented"
      ]
     },
     "execution_count": 2,
     "metadata": {},
     "output_type": "execute_result"
    }
   ],
   "source": [
    "import pandas as pd\n",
    "\n",
    "df = pd.DataFrame({\"Stack Memory\": [\"small size\", \"fast access\", \"stores function calls and local variables\", \n",
    "                                   \"no fragmentation\"], \n",
    "                   \"Heap Memory\": [\"large size\", \"slow access\", \"stores objects\", \"may become fragmented\"]}, \n",
    "                  index= [1, 2, 3, 4])\n",
    "df"
   ]
  },
  {
   "cell_type": "markdown",
   "id": "19d9c764",
   "metadata": {},
   "source": [
    "### Real World Applications of Stacks\n",
    "\n",
    "1. Back button in web browsers — The recently visited websites and **URL**s are pushed onto a stack and the back button pops these **URL**s.\n",
    "2. Undo operation in softwares (e.g. **photoshop** or **paint** programs)\n",
    "3. Stack memory stores local variables and function calls."
   ]
  }
 ],
 "metadata": {
  "kernelspec": {
   "display_name": "Python 3 (ipykernel)",
   "language": "python",
   "name": "python3"
  },
  "language_info": {
   "codemirror_mode": {
    "name": "ipython",
    "version": 3
   },
   "file_extension": ".py",
   "mimetype": "text/x-python",
   "name": "python",
   "nbconvert_exporter": "python",
   "pygments_lexer": "ipython3",
   "version": "3.9.13"
  }
 },
 "nbformat": 4,
 "nbformat_minor": 5
}
