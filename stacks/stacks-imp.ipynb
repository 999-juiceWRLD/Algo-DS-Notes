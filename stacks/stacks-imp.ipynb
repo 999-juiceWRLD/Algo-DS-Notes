{
 "cells": [
  {
   "cell_type": "markdown",
   "id": "55b43c33",
   "metadata": {},
   "source": [
    "### Implementation of the Stack Data Structure"
   ]
  },
  {
   "cell_type": "code",
   "execution_count": 1,
   "id": "39c04e53",
   "metadata": {},
   "outputs": [],
   "source": [
    "class Stack:\n",
    "    def __init__(self):\n",
    "        self.stack = []\n",
    "        self.size = 0\n",
    "    \n",
    "    def push(self, value):\n",
    "        self.stack.append(value)\n",
    "        self.size += 1\n",
    "        \n",
    "    def pop(self):\n",
    "        if self.get_size() >= 1:\n",
    "            item = self.stack[-1]\n",
    "            del self.stack[-1]\n",
    "            self.size -= 1\n",
    "            return f\"{item} popped\"\n",
    "        if self.is_empty() == True:\n",
    "            return \"Empty stack\"\n",
    "    \n",
    "    def peek(self):\n",
    "        if self.is_empty() == False:\n",
    "            return self.stack[-1]\n",
    "        else:\n",
    "            return \"Empty stack\"\n",
    "    \n",
    "    def is_empty(self): return self.size == 0;\n",
    "    \n",
    "    def get_size(self): return self.size;"
   ]
  },
  {
   "cell_type": "code",
   "execution_count": 2,
   "id": "c5a0b7da",
   "metadata": {},
   "outputs": [],
   "source": [
    "stack = Stack()\n",
    "\n",
    "stack.push(10)\n",
    "stack.push(100)\n",
    "stack.push(1000)"
   ]
  },
  {
   "cell_type": "code",
   "execution_count": 3,
   "id": "35ad853c",
   "metadata": {},
   "outputs": [
    {
     "data": {
      "text/plain": [
       "1000"
      ]
     },
     "execution_count": 3,
     "metadata": {},
     "output_type": "execute_result"
    }
   ],
   "source": [
    "stack.peek()"
   ]
  },
  {
   "cell_type": "code",
   "execution_count": 4,
   "id": "8d1a073a",
   "metadata": {},
   "outputs": [
    {
     "data": {
      "text/plain": [
       "'1000 popped'"
      ]
     },
     "execution_count": 4,
     "metadata": {},
     "output_type": "execute_result"
    }
   ],
   "source": [
    "stack.pop()"
   ]
  },
  {
   "cell_type": "code",
   "execution_count": 5,
   "id": "f627e24e",
   "metadata": {},
   "outputs": [
    {
     "data": {
      "text/plain": [
       "100"
      ]
     },
     "execution_count": 5,
     "metadata": {},
     "output_type": "execute_result"
    }
   ],
   "source": [
    "stack.peek()"
   ]
  },
  {
   "cell_type": "code",
   "execution_count": 6,
   "id": "1e0b1f69",
   "metadata": {},
   "outputs": [
    {
     "data": {
      "text/plain": [
       "24"
      ]
     },
     "execution_count": 6,
     "metadata": {},
     "output_type": "execute_result"
    }
   ],
   "source": [
    "stack.push(24)\n",
    "stack.peek()"
   ]
  },
  {
   "cell_type": "code",
   "execution_count": 7,
   "id": "20afb5b2",
   "metadata": {},
   "outputs": [
    {
     "data": {
      "text/plain": [
       "2"
      ]
     },
     "execution_count": 7,
     "metadata": {},
     "output_type": "execute_result"
    }
   ],
   "source": [
    "stack.pop()\n",
    "stack.pop()\n",
    "stack.push(999)\n",
    "stack.get_size()"
   ]
  },
  {
   "cell_type": "code",
   "execution_count": 8,
   "id": "c6b6bbe5",
   "metadata": {},
   "outputs": [
    {
     "data": {
      "text/plain": [
       "'999 popped'"
      ]
     },
     "execution_count": 8,
     "metadata": {},
     "output_type": "execute_result"
    }
   ],
   "source": [
    "stack.pop()"
   ]
  },
  {
   "cell_type": "code",
   "execution_count": 9,
   "id": "2642bffd",
   "metadata": {},
   "outputs": [
    {
     "data": {
      "text/plain": [
       "'10 popped'"
      ]
     },
     "execution_count": 9,
     "metadata": {},
     "output_type": "execute_result"
    }
   ],
   "source": [
    "stack.pop()"
   ]
  },
  {
   "cell_type": "code",
   "execution_count": 10,
   "id": "dbd802f2",
   "metadata": {},
   "outputs": [
    {
     "data": {
      "text/plain": [
       "0"
      ]
     },
     "execution_count": 10,
     "metadata": {},
     "output_type": "execute_result"
    }
   ],
   "source": [
    "stack.get_size()"
   ]
  },
  {
   "cell_type": "code",
   "execution_count": 11,
   "id": "0f1b1a4f",
   "metadata": {},
   "outputs": [
    {
     "data": {
      "text/plain": [
       "'Empty stack'"
      ]
     },
     "execution_count": 11,
     "metadata": {},
     "output_type": "execute_result"
    }
   ],
   "source": [
    "stack.pop()"
   ]
  },
  {
   "cell_type": "code",
   "execution_count": 12,
   "id": "f155f57f",
   "metadata": {},
   "outputs": [
    {
     "data": {
      "text/plain": [
       "True"
      ]
     },
     "execution_count": 12,
     "metadata": {},
     "output_type": "execute_result"
    }
   ],
   "source": [
    "stack.is_empty()"
   ]
  },
  {
   "cell_type": "code",
   "execution_count": 13,
   "id": "70ca7b5b",
   "metadata": {},
   "outputs": [
    {
     "data": {
      "text/plain": [
       "0"
      ]
     },
     "execution_count": 13,
     "metadata": {},
     "output_type": "execute_result"
    }
   ],
   "source": [
    "stack.get_size()"
   ]
  },
  {
   "cell_type": "code",
   "execution_count": 14,
   "id": "df112acb",
   "metadata": {},
   "outputs": [
    {
     "data": {
      "text/plain": [
       "'Empty stack'"
      ]
     },
     "execution_count": 14,
     "metadata": {},
     "output_type": "execute_result"
    }
   ],
   "source": [
    "stack.peek()"
   ]
  },
  {
   "cell_type": "code",
   "execution_count": 15,
   "id": "86b2b383",
   "metadata": {},
   "outputs": [
    {
     "data": {
      "text/plain": [
       "'Empty stack'"
      ]
     },
     "execution_count": 15,
     "metadata": {},
     "output_type": "execute_result"
    }
   ],
   "source": [
    "stack.pop()"
   ]
  },
  {
   "cell_type": "code",
   "execution_count": 16,
   "id": "eb8d931a",
   "metadata": {},
   "outputs": [
    {
     "data": {
      "text/plain": [
       "True"
      ]
     },
     "execution_count": 16,
     "metadata": {},
     "output_type": "execute_result"
    }
   ],
   "source": [
    "stack.is_empty()"
   ]
  },
  {
   "cell_type": "code",
   "execution_count": 17,
   "id": "34488934",
   "metadata": {},
   "outputs": [
    {
     "data": {
      "text/plain": [
       "0"
      ]
     },
     "execution_count": 17,
     "metadata": {},
     "output_type": "execute_result"
    }
   ],
   "source": [
    "stack.get_size()"
   ]
  },
  {
   "cell_type": "code",
   "execution_count": 18,
   "id": "41a9e127",
   "metadata": {},
   "outputs": [
    {
     "data": {
      "text/plain": [
       "'Empty stack'"
      ]
     },
     "execution_count": 18,
     "metadata": {},
     "output_type": "execute_result"
    }
   ],
   "source": [
    "stack.pop()"
   ]
  },
  {
   "cell_type": "code",
   "execution_count": 19,
   "id": "a52bce72",
   "metadata": {},
   "outputs": [
    {
     "data": {
      "text/plain": [
       "'55 popped'"
      ]
     },
     "execution_count": 19,
     "metadata": {},
     "output_type": "execute_result"
    }
   ],
   "source": [
    "stack.push(55)\n",
    "stack.pop()"
   ]
  }
 ],
 "metadata": {
  "kernelspec": {
   "display_name": "Python 3 (ipykernel)",
   "language": "python",
   "name": "python3"
  },
  "language_info": {
   "codemirror_mode": {
    "name": "ipython",
    "version": 3
   },
   "file_extension": ".py",
   "mimetype": "text/x-python",
   "name": "python",
   "nbconvert_exporter": "python",
   "pygments_lexer": "ipython3",
   "version": "3.9.13"
  }
 },
 "nbformat": 4,
 "nbformat_minor": 5
}
