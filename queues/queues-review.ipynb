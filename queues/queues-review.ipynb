{
 "cells": [
  {
   "cell_type": "markdown",
   "id": "93fbf9b8",
   "metadata": {},
   "source": [
    "# Queues\n",
    "\n",
    "- Queue is an **abstract data type** — and it can be implemented with either **arrays** or **linked lists**.\n",
    "- Queues have a structure called **FIFO** (**F**irst **I**n **F**irst **O**ut) — the first item we inserted is the first item we take out.\n",
    "- Basic operations are:<br> \n",
    "> `enqueue()`<br>\n",
    "> `dequeue()` <br>\n",
    "> `peek()`<br>\n",
    "- Queues have several applications in **operating systems** and thread management (multithreading)."
   ]
  },
  {
   "cell_type": "markdown",
   "id": "3e41e223",
   "metadata": {},
   "source": [
    "### Queues Application\n",
    "\n",
    "1. **Queues** are useful when a resource is shared with several consumers (for example threads)\n",
    "2. Threads are stored in queues.\n",
    "3. **Queues** are important in **CPU** scheduling.\n",
    "4. When data is transferred asynchronously (data not necessarily received at same rate as sent) between two processes.\n",
    "5. Graph algorithms rely heavily on on queues: **breadth-first search** use queue as an underlying abstract data type."
   ]
  }
 ],
 "metadata": {
  "kernelspec": {
   "display_name": "Python 3 (ipykernel)",
   "language": "python",
   "name": "python3"
  },
  "language_info": {
   "codemirror_mode": {
    "name": "ipython",
    "version": 3
   },
   "file_extension": ".py",
   "mimetype": "text/x-python",
   "name": "python",
   "nbconvert_exporter": "python",
   "pygments_lexer": "ipython3",
   "version": "3.9.13"
  }
 },
 "nbformat": 4,
 "nbformat_minor": 5
}
