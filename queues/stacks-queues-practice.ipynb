{
 "cells": [
  {
   "cell_type": "markdown",
   "id": "d4fe7208",
   "metadata": {},
   "source": [
    "# Stacks & Queues Practice"
   ]
  },
  {
   "cell_type": "markdown",
   "id": "f712d661",
   "metadata": {},
   "source": [
    "##### 1. Max in a Stack Problem\n",
    "The aim is to design an algorithm that can return the maximum item of a stack in **O(1)** running time complexity. We also can use **O(N)** extra memory.\n",
    "\n",
    "The problem is that we have a stack and we want to track the largest item during insertion.\n",
    "> So we want to make shure the `getMax()` operation has **O(1)** constant running time.<br>\n",
    "> The memory complexity can be **O(N)** which means we can use another stack in the implementation."
   ]
  },
  {
   "cell_type": "code",
   "execution_count": 1,
   "id": "1361bccf",
   "metadata": {},
   "outputs": [],
   "source": [
    "class maxStack:\n",
    "    def __init__(self):\n",
    "        self.main_stack = []\n",
    "        self.max_stack = []\n",
    "        self.size = 0\n",
    "    \n",
    "    def push(self, value):\n",
    "        if self.is_empty():\n",
    "            self.main_stack.append(value)\n",
    "            self.max_stack.append(value)\n",
    "        else:\n",
    "            self.main_stack.append(value)\n",
    "            if value > self.max_stack[-1]:\n",
    "                self.max_stack.append(value)\n",
    "            else:\n",
    "                self.max_stack.append(self.max_stack[-1])\n",
    "        self.size += 1\n",
    "        return\n",
    "    \n",
    "    def pop(self):\n",
    "        if not self.is_empty():\n",
    "            self.size -= 1\n",
    "            data = self.main_stack[-1]\n",
    "            del self.main_stack[-1]\n",
    "            del self.max_stack[-1]\n",
    "            return f\"{data} popped\"\n",
    "        else: return \"Stack is empty\";\n",
    "    \n",
    "    def peak_max(self):\n",
    "        return self.max_stack[-1]\n",
    "            \n",
    "    def is_empty(self): return self.size == 0;"
   ]
  },
  {
   "cell_type": "code",
   "execution_count": 2,
   "id": "1581fa0d",
   "metadata": {},
   "outputs": [
    {
     "name": "stdout",
     "output_type": "stream",
     "text": [
      "10\n"
     ]
    }
   ],
   "source": [
    "stack = maxStack()\n",
    "\n",
    "stack.push(10)\n",
    "print(stack.peak_max())\n",
    "stack.push(15)"
   ]
  },
  {
   "cell_type": "code",
   "execution_count": 3,
   "id": "b261da8e",
   "metadata": {},
   "outputs": [
    {
     "name": "stdout",
     "output_type": "stream",
     "text": [
      "15\n"
     ]
    }
   ],
   "source": [
    "print(stack.peak_max())"
   ]
  },
  {
   "cell_type": "code",
   "execution_count": 4,
   "id": "2f9a88bf",
   "metadata": {},
   "outputs": [
    {
     "data": {
      "text/plain": [
       "'15 popped'"
      ]
     },
     "execution_count": 4,
     "metadata": {},
     "output_type": "execute_result"
    }
   ],
   "source": [
    "stack.pop()"
   ]
  },
  {
   "cell_type": "markdown",
   "id": "c66c4e38",
   "metadata": {},
   "source": [
    "##### 2. Queue with Stack Problem\n",
    "The aim is to design a queue abstract data type with the help of stacks.\n",
    "\n",
    "The problem is that we want to implement queue abstract data type with the `enqueue()` and `dequeue()` operations with stacks.<br>\n",
    "> We can use 2 stacks for this problem:<br><br>\n",
    "> One stack for `enqueue()` operation<br>\n",
    "> One stack for `dequeue()` operation"
   ]
  },
  {
   "cell_type": "markdown",
   "id": "f5c8998a",
   "metadata": {},
   "source": [
    "##### 1. First Way of Solution"
   ]
  },
  {
   "cell_type": "code",
   "execution_count": 5,
   "id": "178fb2df",
   "metadata": {},
   "outputs": [],
   "source": [
    "class Queue:\n",
    "    def __init__(self):\n",
    "        self.enqueue_stack = []\n",
    "        self.dequeue_stack = []\n",
    "    \n",
    "    def enqueue(self, value):\n",
    "        self.enqueue_stack.append(value)\n",
    "    \n",
    "    def dequeue(self):\n",
    "        if len(self.enqueue_stack) == 0 and len(self.dequeue_stack) == 0:\n",
    "            raise Exception(\"Stacks are empty\")\n",
    "        \n",
    "        if len(self.dequeue_stack) == 0:\n",
    "            while len(self.enqueue_stack) != 0:\n",
    "                self.dequeue_stack.append(self.enqueue_stack.pop())\n",
    "        \n",
    "        return self.dequeue_stack.pop()"
   ]
  },
  {
   "cell_type": "code",
   "execution_count": 6,
   "id": "79e248ff",
   "metadata": {},
   "outputs": [],
   "source": [
    "queue = Queue()\n",
    "\n",
    "queue.enqueue(10)\n",
    "queue.enqueue(5)\n",
    "queue.enqueue(20)"
   ]
  },
  {
   "cell_type": "code",
   "execution_count": 7,
   "id": "821e7c32",
   "metadata": {},
   "outputs": [
    {
     "data": {
      "text/plain": [
       "10"
      ]
     },
     "execution_count": 7,
     "metadata": {},
     "output_type": "execute_result"
    }
   ],
   "source": [
    "queue.dequeue()"
   ]
  },
  {
   "cell_type": "code",
   "execution_count": 8,
   "id": "7a8e198f",
   "metadata": {},
   "outputs": [],
   "source": [
    "queue.enqueue(100)"
   ]
  },
  {
   "cell_type": "code",
   "execution_count": 9,
   "id": "19d9e7bc",
   "metadata": {},
   "outputs": [
    {
     "name": "stdout",
     "output_type": "stream",
     "text": [
      "5\n",
      "20\n",
      "100\n"
     ]
    }
   ],
   "source": [
    "print(queue.dequeue())\n",
    "print(queue.dequeue())\n",
    "print(queue.dequeue())"
   ]
  },
  {
   "cell_type": "markdown",
   "id": "956097f0",
   "metadata": {},
   "source": [
    "##### 2. Recursive Solution"
   ]
  },
  {
   "cell_type": "code",
   "execution_count": 10,
   "id": "1d1ff84b",
   "metadata": {},
   "outputs": [],
   "source": [
    "class Queue:\n",
    "    def __init__(self):\n",
    "        self.stack = []\n",
    "    \n",
    "    def enqueue(self, value):\n",
    "        self.stack.append(value)\n",
    "    \n",
    "    def dequeue(self):\n",
    "        if len(self.stack) == 1: return self.stack.pop();\n",
    "        item = self.stack.pop()\n",
    "        dequeued_item = self.dequeue()\n",
    "        self.stack.append(item)\n",
    "        return dequeued_item"
   ]
  },
  {
   "cell_type": "code",
   "execution_count": 11,
   "id": "25b5b89a",
   "metadata": {},
   "outputs": [],
   "source": [
    "queue = Queue()\n",
    "\n",
    "queue.enqueue(10)\n",
    "queue.enqueue(5)\n",
    "queue.enqueue(20)"
   ]
  },
  {
   "cell_type": "code",
   "execution_count": 12,
   "id": "cf5ac766",
   "metadata": {},
   "outputs": [
    {
     "name": "stdout",
     "output_type": "stream",
     "text": [
      "10\n"
     ]
    }
   ],
   "source": [
    "print(queue.dequeue())"
   ]
  },
  {
   "cell_type": "code",
   "execution_count": 13,
   "id": "c20db5dd",
   "metadata": {},
   "outputs": [],
   "source": [
    "queue.enqueue(100)"
   ]
  },
  {
   "cell_type": "code",
   "execution_count": 14,
   "id": "08518c1f",
   "metadata": {},
   "outputs": [
    {
     "name": "stdout",
     "output_type": "stream",
     "text": [
      "5\n",
      "20\n",
      "100\n"
     ]
    }
   ],
   "source": [
    "print(queue.dequeue())\n",
    "print(queue.dequeue())\n",
    "print(queue.dequeue())"
   ]
  }
 ],
 "metadata": {
  "kernelspec": {
   "display_name": "Python 3 (ipykernel)",
   "language": "python",
   "name": "python3"
  },
  "language_info": {
   "codemirror_mode": {
    "name": "ipython",
    "version": 3
   },
   "file_extension": ".py",
   "mimetype": "text/x-python",
   "name": "python",
   "nbconvert_exporter": "python",
   "pygments_lexer": "ipython3",
   "version": "3.9.13"
  }
 },
 "nbformat": 4,
 "nbformat_minor": 5
}
