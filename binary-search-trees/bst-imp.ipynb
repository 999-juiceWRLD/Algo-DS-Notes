{
 "cells": [
  {
   "cell_type": "code",
   "execution_count": 1,
   "id": "52eeb0ec",
   "metadata": {},
   "outputs": [],
   "source": [
    "class Node:\n",
    "    def __init__(self, value, parent_node= None):\n",
    "        self.value = value\n",
    "        self.right_node = None\n",
    "        self.left_node = None\n",
    "        self.parent_node = parent_node\n",
    "\n",
    "class BinarySearchTree:\n",
    "    def __init__(self):\n",
    "        self.root = None\n",
    "    \n",
    "    def insert(self, value):\n",
    "        if self.root is None:\n",
    "            self.root = Node(value)\n",
    "        else: \n",
    "            self.insert_node(value, self.root)\n",
    "    \n",
    "    def insert_node(self, value, node):\n",
    "        if value < node.value:\n",
    "            if node.left_node:\n",
    "                self.insert_node(value, node.left_node)\n",
    "            else:\n",
    "                node.left_node = Node(value, node)\n",
    "        else:\n",
    "            if node.right_node:\n",
    "                self.insert_node(value, node.right_node)\n",
    "            else:\n",
    "                node.right_node = Node(value, node)\n",
    "    \n",
    "    def get_min(self):\n",
    "        current_node = self.root\n",
    "        while current_node.left_node:\n",
    "            current_node = current_node.left_node\n",
    "        return current_node.value\n",
    "    \n",
    "    def get_max(self):\n",
    "        current_node = self.root\n",
    "        while current_node.right_node:\n",
    "            current_node = current_node.right_node\n",
    "        return current_node.value\n",
    "    \n",
    "    def traverse(self):\n",
    "        if self.root:\n",
    "            self.traverse_in_order(self.root)\n",
    "    \n",
    "    def traverse_in_order(self, node):\n",
    "        if node.left_node:\n",
    "            self.traverse_in_order(node.left_node)\n",
    "        print(node.value)\n",
    "        \n",
    "        if node.right_node:\n",
    "            self.traverse_in_order(node.right_node)\n",
    "    \n",
    "    def remove(self, node):\n",
    "        if self.root:\n",
    "            self.remove_node(node, self.root)\n",
    "    \n",
    "    def remove_node(self, value, node):\n",
    "        if node is None:\n",
    "            return None\n",
    "        \n",
    "        if value < node.value:\n",
    "            self.remove_node(value, node.left_node)\n",
    "        elif value > node.value:\n",
    "            self.remove_node(value, node.right_node)\n",
    "        else: \n",
    "            #leaf node\n",
    "            if node.left_node is None and node.right_node is None:\n",
    "                print(f\"Leaf node - {node.value} - has been removed.\")\n",
    "                parent = node.parent_node\n",
    "                \n",
    "                if parent is not None and parent.left_node == node:\n",
    "                    parent.left_node = None\n",
    "                if parent is not None and parent.right_node == node:\n",
    "                    parent.right_node = None\n",
    "                \n",
    "                if parent is None:\n",
    "                    self.root = node.right_node\n",
    "                \n",
    "                del node\n",
    "                \n",
    "            # single child \n",
    "            elif node.left_node is None and node.right_node is not None:\n",
    "                print(\"Removing a node with single right child.\")\n",
    "                parent = node.parent_node\n",
    "                \n",
    "                if parent is not None and parent.left_node == node:\n",
    "                    parent.left_node = node.right_node\n",
    "                if parent is not None and parent.right_node == node:\n",
    "                    parent.right_node = node.right_node\n",
    "                \n",
    "                if parent is None:\n",
    "                    self.root = None\n",
    "                node.right_node.parent = parent\n",
    "                del node\n",
    "                \n",
    "            elif node.right_node is None and node.left_node is not None:\n",
    "                print(\"Removing a node with single  child.\")\n",
    "                parent = node.parent_node\n",
    "                \n",
    "                if parent is not None:\n",
    "                    if parent.left_node == node:\n",
    "                        parent.left_node = node.left_node\n",
    "                    if parent.right_node == node:\n",
    "                        parent.right_node = node.left_node\n",
    "                else:\n",
    "                    self.root = node.left_node\n",
    "                node.left_node.parent = parent\n",
    "                del node\n",
    "           \n",
    "            else:\n",
    "                print(\"Removing node with two children.\")\n",
    "                predecessor = self.get_predecessor(node.left_node)\n",
    "                \n",
    "                temp = predecessor.value\n",
    "                predecessor.value = node.value\n",
    "                node.value = temp\n",
    "            \n",
    "    def get_predecessor(self, node):\n",
    "        \n",
    "        if node.right_node:\n",
    "            return self.get_predecessor(node.right_node)\n",
    "        \n",
    "        return node"
   ]
  },
  {
   "cell_type": "code",
   "execution_count": 2,
   "id": "38700bee",
   "metadata": {},
   "outputs": [],
   "source": [
    "bst = BinarySearchTree()"
   ]
  },
  {
   "cell_type": "code",
   "execution_count": 3,
   "id": "7b2b62c3",
   "metadata": {},
   "outputs": [],
   "source": [
    "bst.insert(20)\n",
    "bst.insert(45)\n",
    "bst.insert(19)\n",
    "bst.insert(18)\n",
    "bst.insert(17)\n",
    "bst.insert(14)"
   ]
  },
  {
   "cell_type": "code",
   "execution_count": 4,
   "id": "f84be074",
   "metadata": {},
   "outputs": [
    {
     "data": {
      "text/plain": [
       "14"
      ]
     },
     "execution_count": 4,
     "metadata": {},
     "output_type": "execute_result"
    }
   ],
   "source": [
    "bst.get_min()"
   ]
  },
  {
   "cell_type": "code",
   "execution_count": 5,
   "id": "601bf27d",
   "metadata": {},
   "outputs": [
    {
     "data": {
      "text/plain": [
       "45"
      ]
     },
     "execution_count": 5,
     "metadata": {},
     "output_type": "execute_result"
    }
   ],
   "source": [
    "bst.get_max()"
   ]
  },
  {
   "cell_type": "code",
   "execution_count": 6,
   "id": "206821d8",
   "metadata": {},
   "outputs": [
    {
     "name": "stdout",
     "output_type": "stream",
     "text": [
      "14\n",
      "17\n",
      "18\n",
      "19\n",
      "20\n",
      "45\n"
     ]
    }
   ],
   "source": [
    "bst.traverse()"
   ]
  },
  {
   "cell_type": "code",
   "execution_count": 7,
   "id": "2fa67acc",
   "metadata": {},
   "outputs": [
    {
     "name": "stdout",
     "output_type": "stream",
     "text": [
      "Leaf node - 14 - has been removed.\n"
     ]
    }
   ],
   "source": [
    "bst.remove(14)"
   ]
  },
  {
   "cell_type": "markdown",
   "id": "1aa5a2bf",
   "metadata": {},
   "source": [
    "## Example\n",
    "\n",
    "Write an efficient algorithm that is able to compare two binary search trees. The method returns *true* if the trees are identical (same topologies with same values), otherwise it returns *false*."
   ]
  },
  {
   "cell_type": "code",
   "execution_count": 8,
   "id": "0e142f30",
   "metadata": {},
   "outputs": [],
   "source": [
    "class TreeComparator:\n",
    "    def compare(self, node1, node2):\n",
    "        if not node1 or not node2: # check leaf nodes\n",
    "            return node1 == node2\n",
    "        if node1.value is not node2.value: # check values in the nodes\n",
    "            return False\n",
    "        return self.compare(node1.left_node, node2.left_node) and self.compare(node1.right_node, node2.right_node)\n",
    "        \n",
    "class Node:\n",
    "    def __init__(self, value, parent_node= None):\n",
    "        self.value = value\n",
    "        self.right_node = None\n",
    "        self.left_node = None\n",
    "        self.parent_node = parent_node\n",
    "\n",
    "class BinarySearchTree:\n",
    "    def __init__(self):\n",
    "        self.root = None\n",
    "    \n",
    "    def insert(self, value):\n",
    "        if self.root is None:\n",
    "            self.root = Node(value)\n",
    "        else: \n",
    "            self.insert_node(value, self.root)\n",
    "    \n",
    "    def insert_node(self, value, node):\n",
    "        if value < node.value:\n",
    "            if node.left_node:\n",
    "                self.insert_node(value, node.left_node)\n",
    "            else:\n",
    "                node.left_node = Node(value, node)\n",
    "        else:\n",
    "            if node.right_node:\n",
    "                self.insert_node(value, node.right_node)\n",
    "            else:\n",
    "                node.right_node = Node(value, node)\n",
    "    \n",
    "    def get_min(self):\n",
    "        current_node = self.root\n",
    "        while current_node.left_node:\n",
    "            current_node = current_node.left_node\n",
    "        return current_node.value\n",
    "    \n",
    "    def get_max(self):\n",
    "        current_node = self.root\n",
    "        while current_node.right_node:\n",
    "            current_node = current_node.right_node\n",
    "        return current_node.value\n",
    "    \n",
    "    def traverse(self):\n",
    "        if self.root:\n",
    "            self.traverse_in_order(self.root)\n",
    "    \n",
    "    def traverse_in_order(self, node):\n",
    "        if node.left_node:\n",
    "            self.traverse_in_order(node.left_node)\n",
    "        print(node.value)\n",
    "        \n",
    "        if node.right_node:\n",
    "            self.traverse_in_order(node.right_node)\n",
    "    \n",
    "    def remove(self, node):\n",
    "        if self.root:\n",
    "            self.remove_node(node, self.root)\n",
    "    \n",
    "    def remove_node(self, value, node):\n",
    "        if node is None:\n",
    "            return None\n",
    "        \n",
    "        if value < node.value:\n",
    "            self.remove_node(value, node.left_node)\n",
    "        elif value > node.value:\n",
    "            self.remove_node(value, node.right_node)\n",
    "        else: \n",
    "            #leaf node\n",
    "            if node.left_node is None and node.right_node is None:\n",
    "                print(f\"Leaf node - {node.value} - has been removed.\")\n",
    "                parent = node.parent_node\n",
    "                \n",
    "                if parent is not None and parent.left_node == node:\n",
    "                    parent.left_node = None\n",
    "                if parent is not None and parent.right_node == node:\n",
    "                    parent.right_node = None\n",
    "                \n",
    "                if parent is None:\n",
    "                    self.root = node.right_node\n",
    "                \n",
    "                del node\n",
    "                \n",
    "            # single child \n",
    "            elif node.left_node is None and node.right_node is not None:\n",
    "                print(\"Removing a node with single right child.\")\n",
    "                parent = node.parent_node\n",
    "                \n",
    "                if parent is not None and parent.left_node == node:\n",
    "                    parent.left_node = node.right_node\n",
    "                if parent is not None and parent.right_node == node:\n",
    "                    parent.right_node = node.right_node\n",
    "                \n",
    "                if parent is None:\n",
    "                    self.root = None\n",
    "                node.right_node.parent = parent\n",
    "                del node\n",
    "                \n",
    "            elif node.right_node is None and node.left_node is not None:\n",
    "                print(\"Removing a node with single  child.\")\n",
    "                parent = node.parent_node\n",
    "                \n",
    "                if parent is not None:\n",
    "                    if parent.left_node == node:\n",
    "                        parent.left_node = node.left_node\n",
    "                    if parent.right_node == node:\n",
    "                        parent.right_node = node.left_node\n",
    "                else:\n",
    "                    self.root = node.left_node\n",
    "                node.left_node.parent = parent\n",
    "                del node\n",
    "           \n",
    "            else:\n",
    "                print(\"Removing node with two children.\")\n",
    "                predecessor = self.get_predecessor(node.left_node)\n",
    "                \n",
    "                temp = predecessor.value\n",
    "                predecessor.value = node.value\n",
    "                node.value = temp\n",
    "            \n",
    "    def get_predecessor(self, node):\n",
    "        \n",
    "        if node.right_node:\n",
    "            return self.get_predecessor(node.right_node)\n",
    "        \n",
    "        return node"
   ]
  },
  {
   "cell_type": "code",
   "execution_count": 9,
   "id": "9c9d92fd",
   "metadata": {},
   "outputs": [],
   "source": [
    "bst1 = BinarySearchTree()\n",
    "\n",
    "bst1.insert(10)\n",
    "bst1.insert(5)\n",
    "bst1.insert(15)\n",
    "\n",
    "bst2 = BinarySearchTree()\n",
    "\n",
    "bst2.insert(10)\n",
    "bst2.insert(5)\n",
    "bst2.insert(15)"
   ]
  },
  {
   "cell_type": "code",
   "execution_count": 10,
   "id": "95a48560",
   "metadata": {},
   "outputs": [
    {
     "data": {
      "text/plain": [
       "True"
      ]
     },
     "execution_count": 10,
     "metadata": {},
     "output_type": "execute_result"
    }
   ],
   "source": [
    "compare = TreeComparator()\n",
    "compare.compare(bst1.root, bst2.root)"
   ]
  },
  {
   "cell_type": "code",
   "execution_count": 11,
   "id": "1c2fc744",
   "metadata": {},
   "outputs": [],
   "source": [
    "bst3 = BinarySearchTree()\n",
    "\n",
    "bst3.insert(45)\n",
    "bst.insert(20)\n",
    "bst.insert(34)"
   ]
  },
  {
   "cell_type": "code",
   "execution_count": 12,
   "id": "1a7319d9",
   "metadata": {},
   "outputs": [
    {
     "data": {
      "text/plain": [
       "False"
      ]
     },
     "execution_count": 12,
     "metadata": {},
     "output_type": "execute_result"
    }
   ],
   "source": [
    "compare.compare(bst2.root, bst3.root)"
   ]
  }
 ],
 "metadata": {
  "kernelspec": {
   "display_name": "Python 3 (ipykernel)",
   "language": "python",
   "name": "python3"
  },
  "language_info": {
   "codemirror_mode": {
    "name": "ipython",
    "version": 3
   },
   "file_extension": ".py",
   "mimetype": "text/x-python",
   "name": "python",
   "nbconvert_exporter": "python",
   "pygments_lexer": "ipython3",
   "version": "3.9.13"
  }
 },
 "nbformat": 4,
 "nbformat_minor": 5
}
