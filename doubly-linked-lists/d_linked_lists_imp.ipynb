{
 "cells": [
  {
   "cell_type": "markdown",
   "id": "5e5c38c7",
   "metadata": {},
   "source": [
    "### Implementation of the Doubly Linked Lists"
   ]
  },
  {
   "cell_type": "code",
   "execution_count": 1,
   "id": "4f23f519",
   "metadata": {},
   "outputs": [],
   "source": [
    "class Node:\n",
    "    def __init__(self, value):\n",
    "        self.value = value\n",
    "        self.next_node = None\n",
    "        self.previous_node = None\n",
    "    \n",
    "    def set_previous_node(self, value):\n",
    "        self.previous_node = value\n",
    "    \n",
    "    def set_next_node(self, value):\n",
    "        self.next_node = value\n",
    "        \n",
    "class DoublyLinkedList:\n",
    "    def __init__(self):\n",
    "        self.head_node = None\n",
    "        self.tail_node = None\n",
    "    \n",
    "    def insert_to_end(self, value):\n",
    "        node = Node(value)\n",
    "        if self.head_node is None:\n",
    "            self.head_node = node\n",
    "            self.tail_node = node\n",
    "        else: \n",
    "            node.previous_node = self.tail_node\n",
    "            self.tail_node.next_node = node\n",
    "            self.tail_node = node\n",
    "    \n",
    "    def insert_to_beginning(self, value):\n",
    "        node = Node(value)\n",
    "        if self.head_node is None:\n",
    "            self.head_node = node\n",
    "            self.tail_node = node\n",
    "        else:\n",
    "            node.next_node = self.head_node\n",
    "            self.head_node.previous_node = node\n",
    "            self.head_node = node\n",
    "    \n",
    "    def traverse_forward(self):\n",
    "        actual_node = self.head_node\n",
    "        while actual_node != None:\n",
    "            print(f\"{actual_node.value}\")\n",
    "            actual_node = actual_node.next_node\n",
    "    \n",
    "    def traverse_backward(self):\n",
    "        actual_node = self.tail_node\n",
    "        while actual_node != None:\n",
    "            print(f\"{actual_node.value}\")\n",
    "            actual_node = actual_node.previous_node\n",
    "    \n",
    "    def remove_element(self, value):\n",
    "        value_to_remove = None\n",
    "        actual_node = self.head_node\n",
    "        while actual_node != None:\n",
    "            if actual_node.value == value:\n",
    "                value_to_remove = actual_node\n",
    "                break\n",
    "            actual_node = actual_node.next_node\n",
    "        if value_to_remove == self.head_node:\n",
    "            remove_head = self.head_node\n",
    "            self.head_node = remove_head.next_node\n",
    "            if self.head_node is not None:\n",
    "                self.head_node.set_previous_node(None)\n",
    "                print(\"Process has been done. Check with traversal:\")\n",
    "                self.traverse_forward()\n",
    "                return\n",
    "        elif value_to_remove == self.tail_node:\n",
    "            remove_tail = self.tail_node\n",
    "            self.tail_node = remove_tail.previous_node\n",
    "            if self.tail_node is not None:\n",
    "                self.tail_node.set_next_node(None)\n",
    "                print(\"Process has been done. Check with traversal:\")\n",
    "                self.traverse_forward()\n",
    "                return\n",
    "        else:\n",
    "            print(\"Element is either not in the list or the list is empty.\")\n",
    "            return"
   ]
  },
  {
   "cell_type": "code",
   "execution_count": 2,
   "id": "47b4a40f",
   "metadata": {},
   "outputs": [
    {
     "name": "stdout",
     "output_type": "stream",
     "text": [
      "7\n",
      "4\n",
      "1\n"
     ]
    }
   ],
   "source": [
    "l = DoublyLinkedList()\n",
    "\n",
    "l.insert_to_beginning(1)\n",
    "l.insert_to_beginning(4)\n",
    "l.insert_to_beginning(7)\n",
    "\n",
    "l.traverse_forward()"
   ]
  },
  {
   "cell_type": "code",
   "execution_count": 3,
   "id": "5639f52c",
   "metadata": {},
   "outputs": [
    {
     "name": "stdout",
     "output_type": "stream",
     "text": [
      "hello there\n",
      "7\n",
      "4\n",
      "1\n",
      "13\n",
      "1881\n",
      "999\n"
     ]
    }
   ],
   "source": [
    "l.insert_to_end(13)\n",
    "l.insert_to_end(1881)\n",
    "l.insert_to_end(999)\n",
    "l.insert_to_beginning(\"hello there\")\n",
    "\n",
    "l.traverse_forward()"
   ]
  },
  {
   "cell_type": "code",
   "execution_count": 4,
   "id": "7bf8a0b1",
   "metadata": {},
   "outputs": [
    {
     "name": "stdout",
     "output_type": "stream",
     "text": [
      "999\n",
      "1881\n",
      "13\n",
      "1\n",
      "4\n",
      "7\n",
      "hello there\n"
     ]
    }
   ],
   "source": [
    "l.traverse_backward()"
   ]
  },
  {
   "cell_type": "code",
   "execution_count": 5,
   "id": "f37324b4",
   "metadata": {},
   "outputs": [
    {
     "name": "stdout",
     "output_type": "stream",
     "text": [
      "Process has been done. Check with traversal:\n",
      "hello there\n",
      "7\n",
      "4\n",
      "1\n",
      "13\n",
      "1881\n"
     ]
    }
   ],
   "source": [
    "l.remove_element(999)"
   ]
  },
  {
   "cell_type": "code",
   "execution_count": 6,
   "id": "59d1f294",
   "metadata": {},
   "outputs": [
    {
     "name": "stdout",
     "output_type": "stream",
     "text": [
      "Element is either not in the list or the list is empty.\n"
     ]
    }
   ],
   "source": [
    "l.remove_element(12121212)"
   ]
  },
  {
   "cell_type": "code",
   "execution_count": 7,
   "id": "95fa4c99",
   "metadata": {},
   "outputs": [
    {
     "name": "stdout",
     "output_type": "stream",
     "text": [
      "Process has been done. Check with traversal:\n",
      "7\n",
      "4\n",
      "1\n",
      "13\n",
      "1881\n"
     ]
    }
   ],
   "source": [
    "l.remove_element(\"hello there\")"
   ]
  }
 ],
 "metadata": {
  "kernelspec": {
   "display_name": "Python 3 (ipykernel)",
   "language": "python",
   "name": "python3"
  },
  "language_info": {
   "codemirror_mode": {
    "name": "ipython",
    "version": 3
   },
   "file_extension": ".py",
   "mimetype": "text/x-python",
   "name": "python",
   "nbconvert_exporter": "python",
   "pygments_lexer": "ipython3",
   "version": "3.9.13"
  }
 },
 "nbformat": 4,
 "nbformat_minor": 5
}
