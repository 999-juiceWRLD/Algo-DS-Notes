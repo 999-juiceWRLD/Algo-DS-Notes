{
 "cells": [
  {
   "cell_type": "markdown",
   "id": "5bb9096a",
   "metadata": {},
   "source": [
    "### Finding the Middle Node in a Linked List\n",
    "\n",
    "Suppose we have a standard linked list. Construct an in-place (without extra memory) algorithm that is able to find the middle node."
   ]
  },
  {
   "cell_type": "markdown",
   "id": "a45ab85d",
   "metadata": {},
   "source": [
    "There are two solutions for that:<br>\n",
    "1. Naive Solution:\n",
    "> Iterate through the list and count how many elements are there in total. Then traverse the list again and the node with **count** / 2 is the middle node.\n",
    "2. Using Two Pointers:\n",
    "> First pointer: traverse the linked list two nodes at a time.<br>\n",
    "Second pointer: traverse the linked list one node at a time.<br>\n",
    "When the faster pointer reaches the end of the list, the slower pointer is pointing to the middle node."
   ]
  },
  {
   "cell_type": "markdown",
   "id": "4c89b5b6",
   "metadata": {},
   "source": [
    "### Two Pointers Implementation"
   ]
  },
  {
   "cell_type": "code",
   "execution_count": 1,
   "id": "9a3dc895",
   "metadata": {},
   "outputs": [],
   "source": [
    "# a simple version will be implemented to increase readability\n",
    "\n",
    "class Node:\n",
    "    def __init__(self, value):\n",
    "        self.value = value\n",
    "        self.next_node = None\n",
    "\n",
    "class LinkedList:\n",
    "    def __init__(self):\n",
    "        self.head_node = None\n",
    "        self.size = 0\n",
    "    \n",
    "    def get_middle_node(self):\n",
    "        fast_pointer = self.head_node\n",
    "        slow_pointer = self.head_node\n",
    "        \n",
    "        while (fast_pointer.next_node) and (fast_pointer.next_node.next_node):\n",
    "            fast_pointer = fast_pointer.next_node.next_node\n",
    "            slow_pointer = slow_pointer.next_node\n",
    "        \n",
    "        return slow_pointer.value\n",
    "    \n",
    "    def insert(self, value):\n",
    "        self.size += 1\n",
    "        node = Node(value)\n",
    "        \n",
    "        if not self.head_node:\n",
    "            self.head_node = node\n",
    "        else:\n",
    "            node.next_node = self.head_node\n",
    "            self.head_node = node\n",
    "    \n",
    "    def traverse(self):\n",
    "        current_node = self.head_node\n",
    "        while current_node is not None:\n",
    "            print(f\"{current_node.value}\")\n",
    "            current_node = current_node.next_node"
   ]
  },
  {
   "cell_type": "code",
   "execution_count": 2,
   "id": "ca5570c4",
   "metadata": {},
   "outputs": [],
   "source": [
    "l = LinkedList()\n",
    "\n",
    "l.insert(10)\n",
    "l.insert(20)\n",
    "l.insert(30)"
   ]
  },
  {
   "cell_type": "code",
   "execution_count": 3,
   "id": "3b3bf05a",
   "metadata": {},
   "outputs": [
    {
     "data": {
      "text/plain": [
       "20"
      ]
     },
     "execution_count": 3,
     "metadata": {},
     "output_type": "execute_result"
    }
   ],
   "source": [
    "l.get_middle_node()"
   ]
  },
  {
   "cell_type": "code",
   "execution_count": 4,
   "id": "b58f9cd3",
   "metadata": {},
   "outputs": [
    {
     "data": {
      "text/plain": [
       "50"
      ]
     },
     "execution_count": 4,
     "metadata": {},
     "output_type": "execute_result"
    }
   ],
   "source": [
    "l.insert(40)\n",
    "l.insert(50)\n",
    "l.insert(60)\n",
    "l.insert(70)\n",
    "l.insert(80)\n",
    "\n",
    "l.get_middle_node()"
   ]
  },
  {
   "cell_type": "markdown",
   "id": "304374b3",
   "metadata": {},
   "source": [
    "### Reverse a Linked List In-Place \n",
    "\n",
    "Construct an in-place algorithm to reverse a singly linked list."
   ]
  },
  {
   "cell_type": "markdown",
   "id": "60c9f5f0",
   "metadata": {},
   "source": [
    "Two ways to solve the problem:<br>\n",
    "1. Naive Solution:\n",
    "> Consider all the nodes one by one then construct another linked list in reversed orderd.<br>\n",
    ">**NOTE:** It has *O(N)* memory complexity so it is not in-place.\n",
    "2. Using Pointers:\n",
    "> We can achive an in-place algorithm but has *O(N)* linear running time complexity as well."
   ]
  },
  {
   "cell_type": "code",
   "execution_count": 5,
   "id": "97273ace",
   "metadata": {},
   "outputs": [],
   "source": [
    "class Node:\n",
    "    def __init__(self, value):\n",
    "        self.value = value\n",
    "        self.next_node = None\n",
    "\n",
    "class LinkedList:\n",
    "    def __init__(self):\n",
    "        self.head_node = None\n",
    "        self.size = 0\n",
    "    \n",
    "    def reverse(self):\n",
    "        current_node = self.head_node\n",
    "        previous_node = None\n",
    "        next_node = None\n",
    "        \n",
    "        while current_node is not None:\n",
    "            next_node = current_node.next_node\n",
    "            current_node.next_node = previous_node\n",
    "            previous_node = current_node\n",
    "            current_node = next_node \n",
    "            \n",
    "        self.head_node = previous_node\n",
    "    \n",
    "    def insert(self, value):\n",
    "        self.size += 1\n",
    "        node = Node(value)\n",
    "        \n",
    "        if not self.head_node:\n",
    "            self.head_node = node\n",
    "        else:\n",
    "            node.next_node = self.head_node\n",
    "            self.head_node = node\n",
    "    \n",
    "    def traverse(self):\n",
    "        current_node = self.head_node\n",
    "        while current_node is not None:\n",
    "            print(f\"{current_node.value}\")\n",
    "            current_node = current_node.next_node"
   ]
  },
  {
   "cell_type": "code",
   "execution_count": 6,
   "id": "5006c6f3",
   "metadata": {},
   "outputs": [
    {
     "name": "stdout",
     "output_type": "stream",
     "text": [
      "46\n",
      "3\n",
      "21\n",
      "101\n",
      "98\n",
      "77\n",
      "56\n",
      "122\n",
      "12\n"
     ]
    }
   ],
   "source": [
    "l = LinkedList()\n",
    "\n",
    "l.insert(12)\n",
    "l.insert(122)\n",
    "l.insert(56)\n",
    "l.insert(77)\n",
    "l.insert(98)\n",
    "l.insert(101)\n",
    "l.insert(21)\n",
    "l.insert(3)\n",
    "l.insert(46)\n",
    "\n",
    "l.traverse()"
   ]
  },
  {
   "cell_type": "code",
   "execution_count": 7,
   "id": "70fb9e98",
   "metadata": {},
   "outputs": [
    {
     "name": "stdout",
     "output_type": "stream",
     "text": [
      "12\n",
      "122\n",
      "56\n",
      "77\n",
      "98\n",
      "101\n",
      "21\n",
      "3\n",
      "46\n"
     ]
    }
   ],
   "source": [
    "l.reverse()\n",
    "l.traverse()"
   ]
  }
 ],
 "metadata": {
  "kernelspec": {
   "display_name": "Python 3 (ipykernel)",
   "language": "python",
   "name": "python3"
  },
  "language_info": {
   "codemirror_mode": {
    "name": "ipython",
    "version": 3
   },
   "file_extension": ".py",
   "mimetype": "text/x-python",
   "name": "python",
   "nbconvert_exporter": "python",
   "pygments_lexer": "ipython3",
   "version": "3.9.13"
  }
 },
 "nbformat": 4,
 "nbformat_minor": 5
}
